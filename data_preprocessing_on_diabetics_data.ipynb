{
  "nbformat": 4,
  "nbformat_minor": 0,
  "metadata": {
    "colab": {
      "name": "data preprocessing on diabetics data",
      "provenance": [],
      "collapsed_sections": []
    },
    "kernelspec": {
      "name": "python3",
      "display_name": "Python 3"
    },
    "language_info": {
      "name": "python"
    }
  },
  "cells": [
    {
      "cell_type": "code",
      "metadata": {
        "id": "X1DNuE1MBRiq",
        "colab": {
          "resources": {
            "http://localhost:8080/nbextensions/google.colab/files.js": {
              "data": "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",
              "ok": true,
              "headers": [
                [
                  "content-type",
                  "application/javascript"
                ]
              ],
              "status": 200,
              "status_text": ""
            }
          },
          "base_uri": "https://localhost:8080/",
          "height": 90
        },
        "outputId": "354d35a9-78ee-4262-afa7-7b9341f3075a"
      },
      "source": [
        "from google.colab import files\n",
        "uploaded = files.upload()"
      ],
      "execution_count": 3,
      "outputs": [
        {
          "output_type": "display_data",
          "data": {
            "text/html": [
              "\n",
              "     <input type=\"file\" id=\"files-94a7002a-996b-4bb0-98d3-d45e4396061a\" name=\"files[]\" multiple disabled\n",
              "        style=\"border:none\" />\n",
              "     <output id=\"result-94a7002a-996b-4bb0-98d3-d45e4396061a\">\n",
              "      Upload widget is only available when the cell has been executed in the\n",
              "      current browser session. Please rerun this cell to enable.\n",
              "      </output>\n",
              "      <script src=\"/nbextensions/google.colab/files.js\"></script> "
            ],
            "text/plain": [
              "<IPython.core.display.HTML object>"
            ]
          },
          "metadata": {
            "tags": []
          }
        },
        {
          "output_type": "stream",
          "text": [
            "Saving Diabetes Data.xlsx to Diabetes Data.xlsx\n"
          ],
          "name": "stdout"
        }
      ]
    },
    {
      "cell_type": "code",
      "metadata": {
        "id": "GJOH1uta7nt4"
      },
      "source": [
        "import pandas as pd\n",
        "import io"
      ],
      "execution_count": 4,
      "outputs": []
    },
    {
      "cell_type": "code",
      "metadata": {
        "colab": {
          "base_uri": "https://localhost:8080/",
          "height": 203
        },
        "id": "hXtqRnSw72Zm",
        "outputId": "0567dab2-fbbd-474c-a7bb-abda194d4113"
      },
      "source": [
        "df = pd.read_excel(io.BytesIO(uploaded['Diabetes Data.xlsx']))\n",
        "df.head()"
      ],
      "execution_count": 5,
      "outputs": [
        {
          "output_type": "execute_result",
          "data": {
            "text/html": [
              "<div>\n",
              "<style scoped>\n",
              "    .dataframe tbody tr th:only-of-type {\n",
              "        vertical-align: middle;\n",
              "    }\n",
              "\n",
              "    .dataframe tbody tr th {\n",
              "        vertical-align: top;\n",
              "    }\n",
              "\n",
              "    .dataframe thead th {\n",
              "        text-align: right;\n",
              "    }\n",
              "</style>\n",
              "<table border=\"1\" class=\"dataframe\">\n",
              "  <thead>\n",
              "    <tr style=\"text-align: right;\">\n",
              "      <th></th>\n",
              "      <th>No of times Preganant</th>\n",
              "      <th>PlasmaGlucose</th>\n",
              "      <th>BP</th>\n",
              "      <th>SkinThickness</th>\n",
              "      <th>Insulin</th>\n",
              "      <th>BMI</th>\n",
              "      <th>Diabetes</th>\n",
              "      <th>Age</th>\n",
              "      <th>Class</th>\n",
              "    </tr>\n",
              "  </thead>\n",
              "  <tbody>\n",
              "    <tr>\n",
              "      <th>0</th>\n",
              "      <td>6</td>\n",
              "      <td>148</td>\n",
              "      <td>72</td>\n",
              "      <td>35</td>\n",
              "      <td>0</td>\n",
              "      <td>33.6</td>\n",
              "      <td>0.627</td>\n",
              "      <td>50</td>\n",
              "      <td>1</td>\n",
              "    </tr>\n",
              "    <tr>\n",
              "      <th>1</th>\n",
              "      <td>1</td>\n",
              "      <td>85</td>\n",
              "      <td>66</td>\n",
              "      <td>29</td>\n",
              "      <td>0</td>\n",
              "      <td>26.6</td>\n",
              "      <td>0.351</td>\n",
              "      <td>31</td>\n",
              "      <td>0</td>\n",
              "    </tr>\n",
              "    <tr>\n",
              "      <th>2</th>\n",
              "      <td>8</td>\n",
              "      <td>183</td>\n",
              "      <td>64</td>\n",
              "      <td>0</td>\n",
              "      <td>0</td>\n",
              "      <td>23.3</td>\n",
              "      <td>0.672</td>\n",
              "      <td>32</td>\n",
              "      <td>1</td>\n",
              "    </tr>\n",
              "    <tr>\n",
              "      <th>3</th>\n",
              "      <td>1</td>\n",
              "      <td>89</td>\n",
              "      <td>66</td>\n",
              "      <td>23</td>\n",
              "      <td>94</td>\n",
              "      <td>28.1</td>\n",
              "      <td>0.167</td>\n",
              "      <td>21</td>\n",
              "      <td>0</td>\n",
              "    </tr>\n",
              "    <tr>\n",
              "      <th>4</th>\n",
              "      <td>0</td>\n",
              "      <td>137</td>\n",
              "      <td>40</td>\n",
              "      <td>35</td>\n",
              "      <td>168</td>\n",
              "      <td>43.1</td>\n",
              "      <td>2.288</td>\n",
              "      <td>33</td>\n",
              "      <td>1</td>\n",
              "    </tr>\n",
              "  </tbody>\n",
              "</table>\n",
              "</div>"
            ],
            "text/plain": [
              "   No of times Preganant  PlasmaGlucose  BP  ...  Diabetes  Age  Class\n",
              "0                      6            148  72  ...     0.627   50      1\n",
              "1                      1             85  66  ...     0.351   31      0\n",
              "2                      8            183  64  ...     0.672   32      1\n",
              "3                      1             89  66  ...     0.167   21      0\n",
              "4                      0            137  40  ...     2.288   33      1\n",
              "\n",
              "[5 rows x 9 columns]"
            ]
          },
          "metadata": {
            "tags": []
          },
          "execution_count": 5
        }
      ]
    },
    {
      "cell_type": "code",
      "metadata": {
        "colab": {
          "base_uri": "https://localhost:8080/"
        },
        "id": "ngUOen968F1P",
        "outputId": "d2cda5bc-a9d4-4ca9-c5e1-965a9ca187a4"
      },
      "source": [
        "num_obs = len(df)\n",
        "num_true = len(df.loc[df['Class'] == 1])\n",
        "num_false = len(df.loc[df['Class'] == 0])\n",
        "print(\"Number of True cases: {0} ({1:2.2f}%)\".format(num_true, (num_true/num_obs) * 100))\n",
        "print(\"Number of False cases: {0} ({1:2.2f}%)\".format(num_false, (num_false/num_obs) * 100))"
      ],
      "execution_count": 6,
      "outputs": [
        {
          "output_type": "stream",
          "text": [
            "Number of True cases: 268 (34.90%)\n",
            "Number of False cases: 500 (65.10%)\n"
          ],
          "name": "stdout"
        }
      ]
    },
    {
      "cell_type": "code",
      "metadata": {
        "id": "t2Mq_wY59G3j"
      },
      "source": [
        "from sklearn.model_selection import train_test_split\n",
        "feature_col_names = ['No of times Preganant', 'PlasmaGlucose', 'BP', 'SkinThickness', 'Insulin', 'BMI', 'Diabetes', 'Age']\n",
        "predicted_class_names = ['Class']\n",
        "X = df[feature_col_names].values\n",
        "# these are factors for the prediction\n",
        "y = df[predicted_class_names].values # this is what we want to predict\n",
        "split_test_size = 0.3\n",
        "X_train,X_test,y_train,y_test = train_test_split(X,y,test_size = split_test_size,random_state=42)\n",
        "# 42 is the set.seed() equivalent in Python which generates repeatable random distribution\n",
        "\n"
      ],
      "execution_count": 7,
      "outputs": []
    },
    {
      "cell_type": "code",
      "metadata": {
        "colab": {
          "base_uri": "https://localhost:8080/"
        },
        "id": "qsl37Ytw-aLe",
        "outputId": "7020d5b4-3f39-4f9c-b965-3e42485f5a4f"
      },
      "source": [
        "print(\"# rows in dataframe {0}\".format(len(df)))\n",
        "print(\"# rows missing glucose_conc: {0}\".format(len(df.loc[df['PlasmaGlucose'] == 0])))\n",
        "print(\"# rows missing diastolic_bp: {0}\".format(len(df.loc[df['BP'] == 0])))\n",
        "print(\"# rows missing thickness: {0}\".format(len(df.loc[df['SkinThickness'] == 0])))\n",
        "print(\"# rows missing insulin: {0}\".format(len(df.loc[df['Insulin'] == 0])))\n",
        "print(\"# rows missing bmi: {0}\".format(len(df.loc[df['BMI'] == 0])))\n",
        "print(\"# rows missing diab_pred: {0}\".format(len(df.loc[df['Diabetes'] == 0])))\n",
        "print(\"# rows missing age: {0}\".format(len(df.loc[df['Age'] == 0])))"
      ],
      "execution_count": 8,
      "outputs": [
        {
          "output_type": "stream",
          "text": [
            "# rows in dataframe 768\n",
            "# rows missing glucose_conc: 5\n",
            "# rows missing diastolic_bp: 35\n",
            "# rows missing thickness: 227\n",
            "# rows missing insulin: 374\n",
            "# rows missing bmi: 11\n",
            "# rows missing diab_pred: 0\n",
            "# rows missing age: 0\n"
          ],
          "name": "stdout"
        }
      ]
    },
    {
      "cell_type": "code",
      "metadata": {
        "id": "pVmUmNOQ_Wt5"
      },
      "source": [
        "from sklearn.impute import SimpleImputer\n",
        "\n",
        "fill_0= SimpleImputer(missing_values = '0', strategy = 'mean')\n",
        "\n",
        "fill_0= SimpleImputer().fit(X[:, 1:8])\n",
        "\n",
        "\n",
        "\n",
        "\n",
        "X_train = fill_0.fit_transform(X_train)\n",
        "\n",
        "X_test = fill_0.fit_transform(X_test)\n",
        "\n"
      ],
      "execution_count": 9,
      "outputs": []
    },
    {
      "cell_type": "code",
      "metadata": {
        "colab": {
          "base_uri": "https://localhost:8080/"
        },
        "id": "LyMI2Htp_3qp",
        "outputId": "b3a6cb92-2cf9-4423-b872-f7181fce619b"
      },
      "source": [
        "X_train"
      ],
      "execution_count": 10,
      "outputs": [
        {
          "output_type": "execute_result",
          "data": {
            "text/plain": [
              "array([[  1.   ,  95.   ,  60.   , ...,  23.9  ,   0.26 ,  22.   ],\n",
              "       [  5.   , 105.   ,  72.   , ...,  36.9  ,   0.159,  28.   ],\n",
              "       [  0.   , 135.   ,  68.   , ...,  42.3  ,   0.365,  24.   ],\n",
              "       ...,\n",
              "       [ 10.   , 101.   ,  86.   , ...,  45.6  ,   1.136,  38.   ],\n",
              "       [  0.   , 141.   ,   0.   , ...,  42.4  ,   0.205,  29.   ],\n",
              "       [  0.   , 125.   ,  96.   , ...,  22.5  ,   0.262,  21.   ]])"
            ]
          },
          "metadata": {
            "tags": []
          },
          "execution_count": 10
        }
      ]
    },
    {
      "cell_type": "code",
      "metadata": {
        "colab": {
          "base_uri": "https://localhost:8080/"
        },
        "id": "WUZx87YEBL5B",
        "outputId": "4bfccd6c-8ff4-4b2a-dc3b-733d69ef0fc0"
      },
      "source": [
        "X_test"
      ],
      "execution_count": 11,
      "outputs": [
        {
          "output_type": "execute_result",
          "data": {
            "text/plain": [
              "array([[6.00e+00, 9.80e+01, 5.80e+01, ..., 3.40e+01, 4.30e-01, 4.30e+01],\n",
              "       [2.00e+00, 1.12e+02, 7.50e+01, ..., 3.57e+01, 1.48e-01, 2.10e+01],\n",
              "       [2.00e+00, 1.08e+02, 6.40e+01, ..., 3.08e+01, 1.58e-01, 2.10e+01],\n",
              "       ...,\n",
              "       [0.00e+00, 1.27e+02, 8.00e+01, ..., 3.63e+01, 8.04e-01, 2.30e+01],\n",
              "       [6.00e+00, 1.05e+02, 7.00e+01, ..., 3.08e+01, 1.22e-01, 3.70e+01],\n",
              "       [5.00e+00, 7.70e+01, 8.20e+01, ..., 3.58e+01, 1.56e-01, 3.50e+01]])"
            ]
          },
          "metadata": {
            "tags": []
          },
          "execution_count": 11
        }
      ]
    },
    {
      "cell_type": "code",
      "metadata": {
        "id": "Vu-KUSInBOgu"
      },
      "source": [
        "# function to check 0 in column\n",
        "def ColumnVal(col_name,val):\n",
        "  print (col_name)\n",
        "  rowcnt=0\n",
        "  out_array=[]\n",
        "  for t in df[col_name]:\n",
        "    if(t<val):\n",
        "      out_array.append(rowcnt)\n",
        "      rowcnt=rowcnt+1\n",
        "    return len(out_array)\n",
        "\n",
        "\n",
        "\n",
        "#function to find mean,median,mode\n",
        "def cal_mmm(col_name):\n",
        "  mean = df[col_name].mean()\n",
        "  mode = df[col_name].mode()\n",
        "  #median = df[col_name].median\n",
        "  mmm_array=[mean,mode]\n",
        "  return mmm_array"
      ],
      "execution_count": 12,
      "outputs": []
    },
    {
      "cell_type": "code",
      "metadata": {
        "colab": {
          "base_uri": "https://localhost:8080/"
        },
        "id": "hpyoXDEECBi0",
        "outputId": "f45a97ca-7301-4b4b-f1ce-86fe87c18cef"
      },
      "source": [
        "# Zero Replacement\n",
        "df['PlasmaGlucose']=df.PlasmaGlucose.mask(df.PlasmaGlucose == 0,cal_mmm(\"PlasmaGlucose\")[0])\n",
        "df['BP']=df.BP.mask(df.BP == 0,cal_mmm(\"BP\")[0])\n",
        "df['SkinThickness']=df.SkinThickness.mask(df.SkinThickness == 0,cal_mmm(\"SkinThickness\")[0])\n",
        "df['Insulin']=df.Insulin.mask(df.Insulin == 0,cal_mmm(\"Insulin\")[0])\n",
        "df['BMI']=df.BMI.mask(df.BMI == 0,cal_mmm(\"BMI\")[0])\n",
        "df['Diabetes']=df.Diabetes.mask(df.Diabetes == 0,cal_mmm(\"Diabetes\")[0])\n",
        "print (df.head())"
      ],
      "execution_count": 13,
      "outputs": [
        {
          "output_type": "stream",
          "text": [
            "   No of times Preganant  PlasmaGlucose    BP  ...  Diabetes  Age  Class\n",
            "0                      6          148.0  72.0  ...     0.627   50      1\n",
            "1                      1           85.0  66.0  ...     0.351   31      0\n",
            "2                      8          183.0  64.0  ...     0.672   32      1\n",
            "3                      1           89.0  66.0  ...     0.167   21      0\n",
            "4                      0          137.0  40.0  ...     2.288   33      1\n",
            "\n",
            "[5 rows x 9 columns]\n"
          ],
          "name": "stdout"
        }
      ]
    },
    {
      "cell_type": "markdown",
      "metadata": {
        "id": "4nO8vBgiExsw"
      },
      "source": [
        "outlier detection"
      ]
    },
    {
      "cell_type": "code",
      "metadata": {
        "colab": {
          "base_uri": "https://localhost:8080/",
          "height": 651
        },
        "id": "KgwkkM2vE3yw",
        "outputId": "ff870f10-4950-43c6-c95b-d50c5c9e9ca1"
      },
      "source": [
        "df.plot(kind= 'box' , subplots=True, layout=(3,3), sharex=False, sharey=False, figsize=(10,8))"
      ],
      "execution_count": 14,
      "outputs": [
        {
          "output_type": "execute_result",
          "data": {
            "text/plain": [
              "No of times Preganant       AxesSubplot(0.125,0.657941;0.227941x0.222059)\n",
              "PlasmaGlucose            AxesSubplot(0.398529,0.657941;0.227941x0.222059)\n",
              "BP                       AxesSubplot(0.672059,0.657941;0.227941x0.222059)\n",
              "SkinThickness               AxesSubplot(0.125,0.391471;0.227941x0.222059)\n",
              "Insulin                  AxesSubplot(0.398529,0.391471;0.227941x0.222059)\n",
              "BMI                      AxesSubplot(0.672059,0.391471;0.227941x0.222059)\n",
              "Diabetes                       AxesSubplot(0.125,0.125;0.227941x0.222059)\n",
              "Age                         AxesSubplot(0.398529,0.125;0.227941x0.222059)\n",
              "Class                       AxesSubplot(0.672059,0.125;0.227941x0.222059)\n",
              "dtype: object"
            ]
          },
          "metadata": {
            "tags": []
          },
          "execution_count": 14
        },
        {
          "output_type": "display_data",
          "data": {
            "image/png": "[encoded data removed]",
            "text/plain": [
              "<Figure size 720x576 with 9 Axes>"
            ]
          },
          "metadata": {
            "tags": [],
            "needs_background": "light"
          }
        }
      ]
    },
    {
      "cell_type": "code",
      "metadata": {
        "colab": {
          "base_uri": "https://localhost:8080/"
        },
        "id": "ir5V0n0UE57N",
        "outputId": "08e496bd-98c7-42c8-bf4d-f291316da795"
      },
      "source": [
        "#outlier treatment using Z score\n",
        "from scipy import stats\n",
        "import numpy as np\n",
        "new = df[(np.abs(stats.zscore(df)) < 3).all(axis=1)]\n",
        "new.info()"
      ],
      "execution_count": 15,
      "outputs": [
        {
          "output_type": "stream",
          "text": [
            "<class 'pandas.core.frame.DataFrame'>\n",
            "Int64Index: 718 entries, 0 to 767\n",
            "Data columns (total 9 columns):\n",
            " #   Column                 Non-Null Count  Dtype  \n",
            "---  ------                 --------------  -----  \n",
            " 0   No of times Preganant  718 non-null    int64  \n",
            " 1   PlasmaGlucose          718 non-null    float64\n",
            " 2   BP                     718 non-null    float64\n",
            " 3   SkinThickness          718 non-null    float64\n",
            " 4   Insulin                718 non-null    float64\n",
            " 5   BMI                    718 non-null    float64\n",
            " 6   Diabetes               718 non-null    float64\n",
            " 7   Age                    718 non-null    int64  \n",
            " 8   Class                  718 non-null    int64  \n",
            "dtypes: float64(6), int64(3)\n",
            "memory usage: 56.1 KB\n"
          ],
          "name": "stdout"
        }
      ]
    },
    {
      "cell_type": "code",
      "metadata": {
        "colab": {
          "base_uri": "https://localhost:8080/",
          "height": 651
        },
        "id": "7a7cdFM4J9tm",
        "outputId": "a12a0d99-6538-4e33-a78f-08e1f9cba7ac"
      },
      "source": [
        "new.plot(kind= 'box' , subplots=True, layout=(3,3), sharex=False, sharey=False, figsize=(10,8))"
      ],
      "execution_count": 16,
      "outputs": [
        {
          "output_type": "execute_result",
          "data": {
            "text/plain": [
              "No of times Preganant       AxesSubplot(0.125,0.657941;0.227941x0.222059)\n",
              "PlasmaGlucose            AxesSubplot(0.398529,0.657941;0.227941x0.222059)\n",
              "BP                       AxesSubplot(0.672059,0.657941;0.227941x0.222059)\n",
              "SkinThickness               AxesSubplot(0.125,0.391471;0.227941x0.222059)\n",
              "Insulin                  AxesSubplot(0.398529,0.391471;0.227941x0.222059)\n",
              "BMI                      AxesSubplot(0.672059,0.391471;0.227941x0.222059)\n",
              "Diabetes                       AxesSubplot(0.125,0.125;0.227941x0.222059)\n",
              "Age                         AxesSubplot(0.398529,0.125;0.227941x0.222059)\n",
              "Class                       AxesSubplot(0.672059,0.125;0.227941x0.222059)\n",
              "dtype: object"
            ]
          },
          "metadata": {
            "tags": []
          },
          "execution_count": 16
        },
        {
          "output_type": "display_data",
          "data": {
            "image/png": "[encoded data removed]",
            "text/plain": [
              "<Figure size 720x576 with 9 Axes>"
            ]
          },
          "metadata": {
            "tags": [],
            "needs_background": "light"
          }
        }
      ]
    },
    {
      "cell_type": "code",
      "metadata": {
        "colab": {
          "base_uri": "https://localhost:8080/"
        },
        "id": "E_OB4HZ5KMrp",
        "outputId": "d85bfe4a-68a7-461f-a088-b4aa69577f9f"
      },
      "source": [
        "#Outlier removal & Visualization\n",
        "filt_df = new[['SkinThickness','Insulin','Diabetes','Age','PlasmaGlucose','BMI','BP']]\n",
        "low = .1\n",
        "high = .9\n",
        "quant_df = filt_df.quantile([low, high])\n",
        "print(quant_df)\n",
        "\n",
        "\n",
        "\n",
        "filt_df = filt_df.apply(lambda x: x[(x>quant_df.loc[low,x.name]) & (x < quant_df.loc[high,x.name])], axis=0)"
      ],
      "execution_count": 17,
      "outputs": [
        {
          "output_type": "stream",
          "text": [
            "     SkinThickness  Insulin  Diabetes   Age  PlasmaGlucose   BMI    BP\n",
            "0.1           17.7     66.0    0.1647  22.0           85.0  24.0  58.0\n",
            "0.9           40.0    192.0    0.8468  50.0          164.0  40.6  88.0\n"
          ],
          "name": "stdout"
        }
      ]
    },
    {
      "cell_type": "code",
      "metadata": {
        "colab": {
          "base_uri": "https://localhost:8080/"
        },
        "id": "7138rCytK6rn",
        "outputId": "c1e1c9f7-3f6b-4329-8fa5-c0787ad933a6"
      },
      "source": [
        "new['SkinThickness']=filt_df['SkinThickness']\n",
        "new['Insulin']=filt_df['Insulin']\n",
        "new['BMI']=filt_df['BMI']\n",
        "new['BP']=filt_df['BP']\n",
        "new['Diabetes']=filt_df['Diabetes']\n",
        "new['Age']=filt_df['Age']\n",
        "new['PlasmaGlucose']=filt_df['PlasmaGlucose']"
      ],
      "execution_count": 18,
      "outputs": [
        {
          "output_type": "stream",
          "text": [
            "/usr/local/lib/python3.7/dist-packages/ipykernel_launcher.py:1: SettingWithCopyWarning: \n",
            "A value is trying to be set on a copy of a slice from a DataFrame.\n",
            "Try using .loc[row_indexer,col_indexer] = value instead\n",
            "\n",
            "See the caveats in the documentation: https://pandas.pydata.org/pandas-docs/stable/user_guide/indexing.html#returning-a-view-versus-a-copy\n",
            "  \"\"\"Entry point for launching an IPython kernel.\n",
            "/usr/local/lib/python3.7/dist-packages/ipykernel_launcher.py:2: SettingWithCopyWarning: \n",
            "A value is trying to be set on a copy of a slice from a DataFrame.\n",
            "Try using .loc[row_indexer,col_indexer] = value instead\n",
            "\n",
            "See the caveats in the documentation: https://pandas.pydata.org/pandas-docs/stable/user_guide/indexing.html#returning-a-view-versus-a-copy\n",
            "  \n",
            "/usr/local/lib/python3.7/dist-packages/ipykernel_launcher.py:3: SettingWithCopyWarning: \n",
            "A value is trying to be set on a copy of a slice from a DataFrame.\n",
            "Try using .loc[row_indexer,col_indexer] = value instead\n",
            "\n",
            "See the caveats in the documentation: https://pandas.pydata.org/pandas-docs/stable/user_guide/indexing.html#returning-a-view-versus-a-copy\n",
            "  This is separate from the ipykernel package so we can avoid doing imports until\n",
            "/usr/local/lib/python3.7/dist-packages/ipykernel_launcher.py:4: SettingWithCopyWarning: \n",
            "A value is trying to be set on a copy of a slice from a DataFrame.\n",
            "Try using .loc[row_indexer,col_indexer] = value instead\n",
            "\n",
            "See the caveats in the documentation: https://pandas.pydata.org/pandas-docs/stable/user_guide/indexing.html#returning-a-view-versus-a-copy\n",
            "  after removing the cwd from sys.path.\n",
            "/usr/local/lib/python3.7/dist-packages/ipykernel_launcher.py:5: SettingWithCopyWarning: \n",
            "A value is trying to be set on a copy of a slice from a DataFrame.\n",
            "Try using .loc[row_indexer,col_indexer] = value instead\n",
            "\n",
            "See the caveats in the documentation: https://pandas.pydata.org/pandas-docs/stable/user_guide/indexing.html#returning-a-view-versus-a-copy\n",
            "  \"\"\"\n",
            "/usr/local/lib/python3.7/dist-packages/ipykernel_launcher.py:6: SettingWithCopyWarning: \n",
            "A value is trying to be set on a copy of a slice from a DataFrame.\n",
            "Try using .loc[row_indexer,col_indexer] = value instead\n",
            "\n",
            "See the caveats in the documentation: https://pandas.pydata.org/pandas-docs/stable/user_guide/indexing.html#returning-a-view-versus-a-copy\n",
            "  \n",
            "/usr/local/lib/python3.7/dist-packages/ipykernel_launcher.py:7: SettingWithCopyWarning: \n",
            "A value is trying to be set on a copy of a slice from a DataFrame.\n",
            "Try using .loc[row_indexer,col_indexer] = value instead\n",
            "\n",
            "See the caveats in the documentation: https://pandas.pydata.org/pandas-docs/stable/user_guide/indexing.html#returning-a-view-versus-a-copy\n",
            "  import sys\n"
          ],
          "name": "stderr"
        }
      ]
    },
    {
      "cell_type": "code",
      "metadata": {
        "colab": {
          "base_uri": "https://localhost:8080/",
          "height": 755
        },
        "id": "xxDXaO5TLIjT",
        "outputId": "8716edc3-5b61-4cac-a18f-fce300056087"
      },
      "source": [
        "\n",
        "#final_df.dropna(axis=0, how='any',inplace=True)\n",
        "new.dropna(axis=0, how='any',inplace=True)\n",
        "\n",
        "#final_df.plot(kind= 'box' , subplots=True, layout=(3,3), sharex=False, sharey=False, figsize=(10,8))\n",
        "new.plot(kind= 'box' , subplots=True, layout=(3,3), sharex=False, sharey=False, figsize=(10,8))\n",
        "\n"
      ],
      "execution_count": 19,
      "outputs": [
        {
          "output_type": "stream",
          "text": [
            "/usr/local/lib/python3.7/dist-packages/ipykernel_launcher.py:3: SettingWithCopyWarning: \n",
            "A value is trying to be set on a copy of a slice from a DataFrame\n",
            "\n",
            "See the caveats in the documentation: https://pandas.pydata.org/pandas-docs/stable/user_guide/indexing.html#returning-a-view-versus-a-copy\n",
            "  This is separate from the ipykernel package so we can avoid doing imports until\n"
          ],
          "name": "stderr"
        },
        {
          "output_type": "execute_result",
          "data": {
            "text/plain": [
              "No of times Preganant       AxesSubplot(0.125,0.657941;0.227941x0.222059)\n",
              "PlasmaGlucose            AxesSubplot(0.398529,0.657941;0.227941x0.222059)\n",
              "BP                       AxesSubplot(0.672059,0.657941;0.227941x0.222059)\n",
              "SkinThickness               AxesSubplot(0.125,0.391471;0.227941x0.222059)\n",
              "Insulin                  AxesSubplot(0.398529,0.391471;0.227941x0.222059)\n",
              "BMI                      AxesSubplot(0.672059,0.391471;0.227941x0.222059)\n",
              "Diabetes                       AxesSubplot(0.125,0.125;0.227941x0.222059)\n",
              "Age                         AxesSubplot(0.398529,0.125;0.227941x0.222059)\n",
              "Class                       AxesSubplot(0.672059,0.125;0.227941x0.222059)\n",
              "dtype: object"
            ]
          },
          "metadata": {
            "tags": []
          },
          "execution_count": 19
        },
        {
          "output_type": "display_data",
          "data": {
            "image/png": "[encoded data removed]",
            "text/plain": [
              "<Figure size 720x576 with 9 Axes>"
            ]
          },
          "metadata": {
            "tags": [],
            "needs_background": "light"
          }
        }
      ]
    },
    {
      "cell_type": "code",
      "metadata": {
        "colab": {
          "base_uri": "https://localhost:8080/",
          "height": 203
        },
        "id": "ecoGquJmLQ4i",
        "outputId": "11a7f000-6dd9-46bf-aed9-d3598cfee33c"
      },
      "source": [
        "# Remove column name 'A'\n",
        "cleandata=new.drop(['Insulin'], axis = 1)\n",
        "cleandata.head()"
      ],
      "execution_count": 20,
      "outputs": [
        {
          "output_type": "execute_result",
          "data": {
            "text/html": [
              "<div>\n",
              "<style scoped>\n",
              "    .dataframe tbody tr th:only-of-type {\n",
              "        vertical-align: middle;\n",
              "    }\n",
              "\n",
              "    .dataframe tbody tr th {\n",
              "        vertical-align: top;\n",
              "    }\n",
              "\n",
              "    .dataframe thead th {\n",
              "        text-align: right;\n",
              "    }\n",
              "</style>\n",
              "<table border=\"1\" class=\"dataframe\">\n",
              "  <thead>\n",
              "    <tr style=\"text-align: right;\">\n",
              "      <th></th>\n",
              "      <th>No of times Preganant</th>\n",
              "      <th>PlasmaGlucose</th>\n",
              "      <th>BP</th>\n",
              "      <th>SkinThickness</th>\n",
              "      <th>BMI</th>\n",
              "      <th>Diabetes</th>\n",
              "      <th>Age</th>\n",
              "      <th>Class</th>\n",
              "    </tr>\n",
              "  </thead>\n",
              "  <tbody>\n",
              "    <tr>\n",
              "      <th>5</th>\n",
              "      <td>5</td>\n",
              "      <td>116.0</td>\n",
              "      <td>74.000000</td>\n",
              "      <td>20.536458</td>\n",
              "      <td>25.6</td>\n",
              "      <td>0.201</td>\n",
              "      <td>30.0</td>\n",
              "      <td>0</td>\n",
              "    </tr>\n",
              "    <tr>\n",
              "      <th>15</th>\n",
              "      <td>7</td>\n",
              "      <td>100.0</td>\n",
              "      <td>69.105469</td>\n",
              "      <td>20.536458</td>\n",
              "      <td>30.0</td>\n",
              "      <td>0.484</td>\n",
              "      <td>32.0</td>\n",
              "      <td>1</td>\n",
              "    </tr>\n",
              "    <tr>\n",
              "      <th>17</th>\n",
              "      <td>7</td>\n",
              "      <td>107.0</td>\n",
              "      <td>74.000000</td>\n",
              "      <td>20.536458</td>\n",
              "      <td>29.6</td>\n",
              "      <td>0.254</td>\n",
              "      <td>31.0</td>\n",
              "      <td>1</td>\n",
              "    </tr>\n",
              "    <tr>\n",
              "      <th>19</th>\n",
              "      <td>1</td>\n",
              "      <td>115.0</td>\n",
              "      <td>70.000000</td>\n",
              "      <td>30.000000</td>\n",
              "      <td>34.6</td>\n",
              "      <td>0.529</td>\n",
              "      <td>32.0</td>\n",
              "      <td>1</td>\n",
              "    </tr>\n",
              "    <tr>\n",
              "      <th>23</th>\n",
              "      <td>9</td>\n",
              "      <td>119.0</td>\n",
              "      <td>80.000000</td>\n",
              "      <td>35.000000</td>\n",
              "      <td>29.0</td>\n",
              "      <td>0.263</td>\n",
              "      <td>29.0</td>\n",
              "      <td>1</td>\n",
              "    </tr>\n",
              "  </tbody>\n",
              "</table>\n",
              "</div>"
            ],
            "text/plain": [
              "    No of times Preganant  PlasmaGlucose         BP  ...  Diabetes   Age  Class\n",
              "5                       5          116.0  74.000000  ...     0.201  30.0      0\n",
              "15                      7          100.0  69.105469  ...     0.484  32.0      1\n",
              "17                      7          107.0  74.000000  ...     0.254  31.0      1\n",
              "19                      1          115.0  70.000000  ...     0.529  32.0      1\n",
              "23                      9          119.0  80.000000  ...     0.263  29.0      1\n",
              "\n",
              "[5 rows x 8 columns]"
            ]
          },
          "metadata": {
            "tags": []
          },
          "execution_count": 20
        }
      ]
    },
    {
      "cell_type": "code",
      "metadata": {
        "colab": {
          "base_uri": "https://localhost:8080/",
          "height": 634
        },
        "id": "dVRdfrJ9MHcC",
        "outputId": "0ed07b7c-5b7d-4a4d-9f04-6aecea418969"
      },
      "source": [
        "cleandata.plot(kind= 'box' , subplots=True, layout=(3,3), sharex=False, sharey=False, figsize=(10,8))"
      ],
      "execution_count": 21,
      "outputs": [
        {
          "output_type": "execute_result",
          "data": {
            "text/plain": [
              "No of times Preganant       AxesSubplot(0.125,0.657941;0.227941x0.222059)\n",
              "PlasmaGlucose            AxesSubplot(0.398529,0.657941;0.227941x0.222059)\n",
              "BP                       AxesSubplot(0.672059,0.657941;0.227941x0.222059)\n",
              "SkinThickness               AxesSubplot(0.125,0.391471;0.227941x0.222059)\n",
              "BMI                      AxesSubplot(0.398529,0.391471;0.227941x0.222059)\n",
              "Diabetes                 AxesSubplot(0.672059,0.391471;0.227941x0.222059)\n",
              "Age                            AxesSubplot(0.125,0.125;0.227941x0.222059)\n",
              "Class                       AxesSubplot(0.398529,0.125;0.227941x0.222059)\n",
              "dtype: object"
            ]
          },
          "metadata": {
            "tags": []
          },
          "execution_count": 21
        },
        {
          "output_type": "display_data",
          "data": {
            "image/png": "[encoded data removed]",
            "text/plain": [
              "<Figure size 720x576 with 9 Axes>"
            ]
          },
          "metadata": {
            "tags": [],
            "needs_background": "light"
          }
        }
      ]
    },
    {
      "cell_type": "code",
      "metadata": {
        "id": "A5PnUpBdMJWI",
        "colab": {
          "base_uri": "https://localhost:8080/",
          "height": 203
        },
        "outputId": "60d6db1e-961c-4558-dc81-34ee32455401"
      },
      "source": [
        "cleandata.head()"
      ],
      "execution_count": 22,
      "outputs": [
        {
          "output_type": "execute_result",
          "data": {
            "text/html": [
              "<div>\n",
              "<style scoped>\n",
              "    .dataframe tbody tr th:only-of-type {\n",
              "        vertical-align: middle;\n",
              "    }\n",
              "\n",
              "    .dataframe tbody tr th {\n",
              "        vertical-align: top;\n",
              "    }\n",
              "\n",
              "    .dataframe thead th {\n",
              "        text-align: right;\n",
              "    }\n",
              "</style>\n",
              "<table border=\"1\" class=\"dataframe\">\n",
              "  <thead>\n",
              "    <tr style=\"text-align: right;\">\n",
              "      <th></th>\n",
              "      <th>No of times Preganant</th>\n",
              "      <th>PlasmaGlucose</th>\n",
              "      <th>BP</th>\n",
              "      <th>SkinThickness</th>\n",
              "      <th>BMI</th>\n",
              "      <th>Diabetes</th>\n",
              "      <th>Age</th>\n",
              "      <th>Class</th>\n",
              "    </tr>\n",
              "  </thead>\n",
              "  <tbody>\n",
              "    <tr>\n",
              "      <th>5</th>\n",
              "      <td>5</td>\n",
              "      <td>116.0</td>\n",
              "      <td>74.000000</td>\n",
              "      <td>20.536458</td>\n",
              "      <td>25.6</td>\n",
              "      <td>0.201</td>\n",
              "      <td>30.0</td>\n",
              "      <td>0</td>\n",
              "    </tr>\n",
              "    <tr>\n",
              "      <th>15</th>\n",
              "      <td>7</td>\n",
              "      <td>100.0</td>\n",
              "      <td>69.105469</td>\n",
              "      <td>20.536458</td>\n",
              "      <td>30.0</td>\n",
              "      <td>0.484</td>\n",
              "      <td>32.0</td>\n",
              "      <td>1</td>\n",
              "    </tr>\n",
              "    <tr>\n",
              "      <th>17</th>\n",
              "      <td>7</td>\n",
              "      <td>107.0</td>\n",
              "      <td>74.000000</td>\n",
              "      <td>20.536458</td>\n",
              "      <td>29.6</td>\n",
              "      <td>0.254</td>\n",
              "      <td>31.0</td>\n",
              "      <td>1</td>\n",
              "    </tr>\n",
              "    <tr>\n",
              "      <th>19</th>\n",
              "      <td>1</td>\n",
              "      <td>115.0</td>\n",
              "      <td>70.000000</td>\n",
              "      <td>30.000000</td>\n",
              "      <td>34.6</td>\n",
              "      <td>0.529</td>\n",
              "      <td>32.0</td>\n",
              "      <td>1</td>\n",
              "    </tr>\n",
              "    <tr>\n",
              "      <th>23</th>\n",
              "      <td>9</td>\n",
              "      <td>119.0</td>\n",
              "      <td>80.000000</td>\n",
              "      <td>35.000000</td>\n",
              "      <td>29.0</td>\n",
              "      <td>0.263</td>\n",
              "      <td>29.0</td>\n",
              "      <td>1</td>\n",
              "    </tr>\n",
              "  </tbody>\n",
              "</table>\n",
              "</div>"
            ],
            "text/plain": [
              "    No of times Preganant  PlasmaGlucose         BP  ...  Diabetes   Age  Class\n",
              "5                       5          116.0  74.000000  ...     0.201  30.0      0\n",
              "15                      7          100.0  69.105469  ...     0.484  32.0      1\n",
              "17                      7          107.0  74.000000  ...     0.254  31.0      1\n",
              "19                      1          115.0  70.000000  ...     0.529  32.0      1\n",
              "23                      9          119.0  80.000000  ...     0.263  29.0      1\n",
              "\n",
              "[5 rows x 8 columns]"
            ]
          },
          "metadata": {
            "tags": []
          },
          "execution_count": 22
        }
      ]
    },
    {
      "cell_type": "code",
      "metadata": {
        "colab": {
          "base_uri": "https://localhost:8080/"
        },
        "id": "NRPqN80lBSQO",
        "outputId": "bfa9f267-4c22-4a8b-9c78-919497aff365"
      },
      "source": [
        "num_obs = len(cleandata)\n",
        "num_true = len(cleandata.loc[cleandata['Class'] == 1])\n",
        "num_false = len(cleandata.loc[cleandata['Class'] == 0])\n",
        "print(\"Number of True cases: {0} ({1:2.2f}%)\".format(num_true, (num_true/num_obs) * 100))\n",
        "print(\"Number of False cases: {0} ({1:2.2f}%)\".format(num_false, (num_false/num_obs) * 100))"
      ],
      "execution_count": 23,
      "outputs": [
        {
          "output_type": "stream",
          "text": [
            "Number of True cases: 62 (41.61%)\n",
            "Number of False cases: 87 (58.39%)\n"
          ],
          "name": "stdout"
        }
      ]
    },
    {
      "cell_type": "code",
      "metadata": {
        "id": "BbJnAGq_BZTG"
      },
      "source": [
        "from sklearn.model_selection import train_test_split\n",
        "\n",
        "feature_col_names = ['No of times Preganant', 'PlasmaGlucose', 'BP', 'SkinThickness', 'BMI', 'Diabetes', 'Age']\n",
        "predicted_class_names = ['Class']\n",
        "\n",
        "X = cleandata[feature_col_names].values # these are factors for the prediction\n",
        "y = cleandata[predicted_class_names].values # this is what we want to predict\n",
        "\n",
        "split_test_size = 0.3\n",
        "\n",
        "X_train,X_test,y_train,y_test = train_test_split(X,y,test_size = split_test_size,random_state=42)"
      ],
      "execution_count": 24,
      "outputs": []
    },
    {
      "cell_type": "code",
      "metadata": {
        "id": "23Es-UJNBdOe"
      },
      "source": [
        "from sklearn.preprocessing import StandardScaler\n",
        "\n",
        "sc_x = StandardScaler()\n",
        "\n",
        "X_train = sc_x.fit_transform(X_train) \n",
        "\n",
        "X_test = sc_x.transform(X_test)"
      ],
      "execution_count": 25,
      "outputs": []
    },
    {
      "cell_type": "code",
      "metadata": {
        "id": "OLv9Wz7eBo1g"
      },
      "source": [
        "from sklearn.linear_model import LogisticRegression"
      ],
      "execution_count": 26,
      "outputs": []
    },
    {
      "cell_type": "code",
      "metadata": {
        "colab": {
          "base_uri": "https://localhost:8080/"
        },
        "id": "E5yA5vMcBs_v",
        "outputId": "a4ebcd49-85af-4246-8538-124cfe02ed85"
      },
      "source": [
        "classifier = LogisticRegression(random_state = 0)\n",
        "classifier.fit(X_train, y_train)"
      ],
      "execution_count": 30,
      "outputs": [
        {
          "output_type": "stream",
          "text": [
            "/usr/local/lib/python3.7/dist-packages/sklearn/utils/validation.py:760: DataConversionWarning: A column-vector y was passed when a 1d array was expected. Please change the shape of y to (n_samples, ), for example using ravel().\n",
            "  y = column_or_1d(y, warn=True)\n"
          ],
          "name": "stderr"
        },
        {
          "output_type": "execute_result",
          "data": {
            "text/plain": [
              "LogisticRegression(C=1.0, class_weight=None, dual=False, fit_intercept=True,\n",
              "                   intercept_scaling=1, l1_ratio=None, max_iter=100,\n",
              "                   multi_class='auto', n_jobs=None, penalty='l2',\n",
              "                   random_state=0, solver='lbfgs', tol=0.0001, verbose=0,\n",
              "                   warm_start=False)"
            ]
          },
          "metadata": {
            "tags": []
          },
          "execution_count": 30
        }
      ]
    },
    {
      "cell_type": "code",
      "metadata": {
        "id": "9zMG3mfqBvqa"
      },
      "source": [
        "y_pred = classifier.predict(X_test)"
      ],
      "execution_count": 31,
      "outputs": []
    },
    {
      "cell_type": "code",
      "metadata": {
        "colab": {
          "base_uri": "https://localhost:8080/"
        },
        "id": "Q9ET_BZDBzHM",
        "outputId": "0fe35f7e-75f4-4605-a1cd-c843dbdc8ef4"
      },
      "source": [
        "from sklearn.metrics import confusion_matrix\n",
        "cm = confusion_matrix(y_test, y_pred)\n",
        "\n",
        "print (\"Confusion Matrix : \\n\", cm)"
      ],
      "execution_count": 32,
      "outputs": [
        {
          "output_type": "stream",
          "text": [
            "Confusion Matrix : \n",
            " [[19  5]\n",
            " [11 10]]\n"
          ],
          "name": "stdout"
        }
      ]
    },
    {
      "cell_type": "code",
      "metadata": {
        "colab": {
          "base_uri": "https://localhost:8080/"
        },
        "id": "epArbQYvB2Js",
        "outputId": "39b6e4bd-5bb9-4d0e-f9bf-e441771c36ca"
      },
      "source": [
        "from sklearn import metrics\n",
        "print(\"Accuracy:\",metrics.accuracy_score(y_test, y_pred))\n",
        "print(\"Precision:\",metrics.precision_score(y_test, y_pred))\n",
        "print(\"Recall:\",metrics.recall_score(y_test, y_pred))"
      ],
      "execution_count": 33,
      "outputs": [
        {
          "output_type": "stream",
          "text": [
            "Accuracy: 0.6444444444444445\n",
            "Precision: 0.6666666666666666\n",
            "Recall: 0.47619047619047616\n"
          ],
          "name": "stdout"
        }
      ]
    },
    {
      "cell_type": "code",
      "metadata": {
        "colab": {
          "base_uri": "https://localhost:8080/",
          "height": 325
        },
        "id": "vRMwe8mBB-Wv",
        "outputId": "434cd77f-8258-488c-da50-329b3f00e20e"
      },
      "source": [
        "import matplotlib.pyplot as plt\n",
        "import seaborn as sns\n",
        "fig,ax=plt.subplots(figsize=(7,4))\n",
        "sns.heatmap(cm, annot=True, cmap=\"Greens\",fmt='d')\n",
        "ax.xaxis.set_label_position(\"top\")\n",
        "plt.tight_layout()\n",
        "plt.title('confusion matrix',y=1.1)\n",
        "plt.ylabel('Actual label')\n",
        "plt.xlabel('predicted label')\n",
        "plt.show()"
      ],
      "execution_count": 34,
      "outputs": [
        {
          "output_type": "display_data",
          "data": {
            "image/png": "[encoded data removed]",
            "text/plain": [
              "<Figure size 504x288 with 2 Axes>"
            ]
          },
          "metadata": {
            "tags": [],
            "needs_background": "light"
          }
        }
      ]
    },
    {
      "cell_type": "code",
      "metadata": {
        "colab": {
          "base_uri": "https://localhost:8080/",
          "height": 265
        },
        "id": "VYPBjHE-CGVz",
        "outputId": "515faa31-751b-4135-b6fe-e4ab94429bc5"
      },
      "source": [
        "#ROC Curve##\n",
        "y_pred_proba = classifier.predict_proba(X_test)[::,1]\n",
        "fpr, tpr, _ = metrics.roc_curve(y_test, y_pred_proba)\n",
        "auc = metrics.roc_auc_score(y_test, y_pred_proba)\n",
        "plt.plot(fpr,tpr,label=\"data 1, auc=\"+str(auc))\n",
        "plt.legend(loc=4)\n",
        "plt.show()"
      ],
      "execution_count": 35,
      "outputs": [
        {
          "output_type": "display_data",
          "data": {
            "image/png": "[encoded data removed]",
            "text/plain": [
              "<Figure size 432x288 with 1 Axes>"
            ]
          },
          "metadata": {
            "tags": [],
            "needs_background": "light"
          }
        }
      ]
    },
    {
      "cell_type": "code",
      "metadata": {
        "colab": {
          "base_uri": "https://localhost:8080/"
        },
        "id": "IQ3YQU8YCizh",
        "outputId": "7543d45a-ec61-463c-8415-6b8b5b8a8d62"
      },
      "source": [
        "#From Stats Module\n",
        "\n",
        "import statsmodels.api as sm\n",
        "\n",
        "logit_model=sm.Logit(y,X)\n",
        "\n",
        "result=logit_model.fit()\n",
        "\n",
        "print(result.summary2())\n",
        "\n"
      ],
      "execution_count": 38,
      "outputs": [
        {
          "output_type": "stream",
          "text": [
            "Optimization terminated successfully.\n",
            "         Current function value: 0.586209\n",
            "         Iterations 5\n",
            "                         Results: Logit\n",
            "=================================================================\n",
            "Model:              Logit            Pseudo R-squared: 0.137     \n",
            "Dependent Variable: y                AIC:              188.6902  \n",
            "Date:               2021-07-12 14:55 BIC:              209.7178  \n",
            "No. Observations:   149              Log-Likelihood:   -87.345   \n",
            "Df Model:           6                LL-Null:          -101.17   \n",
            "Df Residuals:       142              LLR p-value:      0.00010920\n",
            "Converged:          1.0000           Scale:            1.0000    \n",
            "No. Iterations:     5.0000                                       \n",
            "--------------------------------------------------------------------\n",
            "       Coef.     Std.Err.       z       P>|z|      [0.025     0.975]\n",
            "--------------------------------------------------------------------\n",
            "x1     0.0252      0.0681     0.3704    0.7111    -0.1082     0.1586\n",
            "x2     0.0209      0.0100     2.0859    0.0370     0.0013     0.0405\n",
            "x3    -0.0849      0.0259    -3.2757    0.0011    -0.1357    -0.0341\n",
            "x4    -0.0165      0.0340    -0.4849    0.6278    -0.0831     0.0502\n",
            "x5    -0.0000      0.0433    -0.0006    0.9995    -0.0848     0.0848\n",
            "x6     0.3836      0.9830     0.3902    0.6964    -1.5431     2.3103\n",
            "x7     0.1062      0.0332     3.1966    0.0014     0.0411     0.1714\n",
            "=================================================================\n",
            "\n"
          ],
          "name": "stdout"
        }
      ]
    },
    {
      "cell_type": "code",
      "metadata": {
        "id": "iNgnTisSPBrv"
      },
      "source": [
        "feature_col_names1 = ['No of times Preganant', 'PlasmaGlucose', 'BP','Age']\n",
        "predicted_class_names = ['Class']\n",
        "\n",
        "X = cleandata[feature_col_names1].values # these are factors for the prediction\n",
        "y = cleandata[predicted_class_names].values # this is what we want to predict\n"
      ],
      "execution_count": 45,
      "outputs": []
    },
    {
      "cell_type": "code",
      "metadata": {
        "colab": {
          "base_uri": "https://localhost:8080/"
        },
        "id": "pDb9i35fPJ1K",
        "outputId": "a597072a-5600-4fd5-91f6-a454be94fba5"
      },
      "source": [
        "import statsmodels.api as sm\n",
        "\n",
        "logit_model1=sm.Logit(y,X)\n",
        "\n",
        "result=logit_model1.fit()\n",
        "\n",
        "print(result.summary2())"
      ],
      "execution_count": 46,
      "outputs": [
        {
          "output_type": "stream",
          "text": [
            "Optimization terminated successfully.\n",
            "         Current function value: 0.587439\n",
            "         Iterations 5\n",
            "                         Results: Logit\n",
            "=================================================================\n",
            "Model:              Logit            Pseudo R-squared: 0.135     \n",
            "Dependent Variable: y                AIC:              183.0569  \n",
            "Date:               2021-07-12 15:01 BIC:              195.0727  \n",
            "No. Observations:   149              Log-Likelihood:   -87.528   \n",
            "Df Model:           3                LL-Null:          -101.17   \n",
            "Df Residuals:       145              LLR p-value:      5.1270e-06\n",
            "Converged:          1.0000           Scale:            1.0000    \n",
            "No. Iterations:     5.0000                                       \n",
            "--------------------------------------------------------------------\n",
            "       Coef.     Std.Err.       z       P>|z|      [0.025     0.975]\n",
            "--------------------------------------------------------------------\n",
            "x1     0.0194      0.0659     0.2947    0.7682    -0.1097     0.1485\n",
            "x2     0.0214      0.0099     2.1636    0.0305     0.0020     0.0408\n",
            "x3    -0.0895      0.0203    -4.4070    0.0000    -0.1293    -0.0497\n",
            "x4     0.1074      0.0328     3.2741    0.0011     0.0431     0.1717\n",
            "=================================================================\n",
            "\n"
          ],
          "name": "stdout"
        }
      ]
    },
    {
      "cell_type": "code",
      "metadata": {
        "id": "BYc2_fbUCndf"
      },
      "source": [
        "from sklearn.tree import DecisionTreeClassifier\n",
        "from sklearn.model_selection import train_test_split\n",
        "from sklearn.metrics import confusion_matrix\n",
        "from sklearn.tree import export_graphviz\n",
        "from IPython.display import Image\n",
        "from pydot import graph_from_dot_data"
      ],
      "execution_count": null,
      "outputs": []
    },
    {
      "cell_type": "code",
      "metadata": {
        "colab": {
          "base_uri": "https://localhost:8080/"
        },
        "id": "Apy89ks5MNWu",
        "outputId": "c3e5812c-3f54-4f86-893b-2a2643030f7e"
      },
      "source": [
        "dt = DecisionTreeClassifier()\n",
        "dt.fit(X_train,y_train)"
      ],
      "execution_count": null,
      "outputs": [
        {
          "output_type": "execute_result",
          "data": {
            "text/plain": [
              "DecisionTreeClassifier(ccp_alpha=0.0, class_weight=None, criterion='gini',\n",
              "                       max_depth=None, max_features=None, max_leaf_nodes=None,\n",
              "                       min_impurity_decrease=0.0, min_impurity_split=None,\n",
              "                       min_samples_leaf=1, min_samples_split=2,\n",
              "                       min_weight_fraction_leaf=0.0, presort='deprecated',\n",
              "                       random_state=None, splitter='best')"
            ]
          },
          "metadata": {
            "tags": []
          },
          "execution_count": 33
        }
      ]
    },
    {
      "cell_type": "code",
      "metadata": {
        "id": "oK_PkK4ZMQrP"
      },
      "source": [
        "y_pred = dt.predict(X_train)"
      ],
      "execution_count": null,
      "outputs": []
    },
    {
      "cell_type": "code",
      "metadata": {
        "colab": {
          "base_uri": "https://localhost:8080/"
        },
        "id": "q56_HKLgMT2Q",
        "outputId": "c0a2328c-d73e-456e-eefe-022cae11389a"
      },
      "source": [
        "print(\"Classification Report\")\n",
        "print(metrics.classification_report(y_train, y_pred))"
      ],
      "execution_count": null,
      "outputs": [
        {
          "output_type": "stream",
          "text": [
            "Classification Report\n",
            "              precision    recall  f1-score   support\n",
            "\n",
            "           0       1.00      1.00      1.00       349\n",
            "           1       1.00      1.00      1.00       188\n",
            "\n",
            "    accuracy                           1.00       537\n",
            "   macro avg       1.00      1.00      1.00       537\n",
            "weighted avg       1.00      1.00      1.00       537\n",
            "\n"
          ],
          "name": "stdout"
        }
      ]
    },
    {
      "cell_type": "code",
      "metadata": {
        "id": "EkBkG7uVMWDD"
      },
      "source": [
        "feature_cols = ['No of times Preganant', 'Plasma', 'BP','Insulin', 'SkinThickness', 'BMI', 'Diabetes', 'Age']"
      ],
      "execution_count": null,
      "outputs": []
    },
    {
      "cell_type": "code",
      "metadata": {
        "colab": {
          "base_uri": "https://localhost:8080/",
          "height": 248
        },
        "id": "sJAaHsoxMZ5T",
        "outputId": "6bf4cdd6-bb5b-4e65-ade7-63fff0c8c73e"
      },
      "source": [
        "from sklearn.tree import plot_tree\n",
        "# Visualising the graph without the use of graphvizplt.figure(figsize = (20,20))\n",
        "dec_tree = plot_tree(decision_tree=dt, feature_names = feature_cols, filled = True , precision = 4, rounded = True,)"
      ],
      "execution_count": null,
      "outputs": [
        {
          "output_type": "display_data",
          "data": {
            "image/png": "[encoded data removed]",
            "text/plain": [
              "<Figure size 432x288 with 1 Axes>"
            ]
          },
          "metadata": {
            "tags": [],
            "needs_background": "light"
          }
        }
      ]
    },
    {
      "cell_type": "code",
      "metadata": {
        "id": "tNoqvZDQMcnU"
      },
      "source": [
        ""
      ],
      "execution_count": null,
      "outputs": []
    }
  ]
}